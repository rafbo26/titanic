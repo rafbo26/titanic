{
 "cells": [
  {
   "cell_type": "code",
   "execution_count": 680,
   "metadata": {},
   "outputs": [],
   "source": [
    "import pandas as pd\n",
    "import numpy as np\n",
    "\n",
    "df = pd.read_csv('train.csv')\n",
    "df.head()\n",
    "\n",
    "test = pd.read_csv('test.csv')"
   ]
  },
  {
   "cell_type": "code",
   "execution_count": 681,
   "metadata": {},
   "outputs": [
    {
     "name": "stdout",
     "output_type": "stream",
     "text": [
      "<class 'pandas.core.frame.DataFrame'>\n",
      "RangeIndex: 889 entries, 0 to 888\n",
      "Data columns (total 13 columns):\n",
      " #   Column       Non-Null Count  Dtype  \n",
      "---  ------       --------------  -----  \n",
      " 0   PassengerId  889 non-null    int64  \n",
      " 1   Survived     889 non-null    int64  \n",
      " 2   Pclass       889 non-null    int64  \n",
      " 3   Name         889 non-null    object \n",
      " 4   Sex          889 non-null    object \n",
      " 5   Age          889 non-null    float64\n",
      " 6   SibSp        889 non-null    int64  \n",
      " 7   Parch        889 non-null    int64  \n",
      " 8   Ticket       889 non-null    object \n",
      " 9   Fare         889 non-null    float64\n",
      " 10  Cabin        202 non-null    object \n",
      " 11  Embarked     889 non-null    object \n",
      " 12  Mean_Age     889 non-null    float64\n",
      "dtypes: float64(3), int64(5), object(5)\n",
      "memory usage: 90.4+ KB\n"
     ]
    }
   ],
   "source": [
    "age_by_sex = df.groupby(['Sex','Pclass','Embarked'])['Age'].mean().reset_index()\n",
    "\n",
    "age_by_sex = age_by_sex.rename(columns={'Age': 'Mean_Age'})\n",
    "\n",
    "df = df.merge(age_by_sex)\n",
    "\n",
    "df['Age'] = df['Age'].fillna(df['Mean_Age'])\n",
    "\n",
    "df.info()"
   ]
  },
  {
   "cell_type": "code",
   "execution_count": 682,
   "metadata": {},
   "outputs": [
    {
     "name": "stdout",
     "output_type": "stream",
     "text": [
      "Title\n",
      "Master           40\n",
      "Miss            183\n",
      "Mr              517\n",
      "Mrs             126\n",
      "Professional     23\n",
      "Name: Title, dtype: int64\n"
     ]
    },
    {
     "data": {
      "text/html": [
       "<div>\n",
       "<style scoped>\n",
       "    .dataframe tbody tr th:only-of-type {\n",
       "        vertical-align: middle;\n",
       "    }\n",
       "\n",
       "    .dataframe tbody tr th {\n",
       "        vertical-align: top;\n",
       "    }\n",
       "\n",
       "    .dataframe thead th {\n",
       "        text-align: right;\n",
       "    }\n",
       "</style>\n",
       "<table border=\"1\" class=\"dataframe\">\n",
       "  <thead>\n",
       "    <tr style=\"text-align: right;\">\n",
       "      <th></th>\n",
       "      <th>PassengerId</th>\n",
       "      <th>Survived</th>\n",
       "      <th>Pclass</th>\n",
       "      <th>Name</th>\n",
       "      <th>Sex</th>\n",
       "      <th>Age</th>\n",
       "      <th>SibSp</th>\n",
       "      <th>Parch</th>\n",
       "      <th>Ticket</th>\n",
       "      <th>Fare</th>\n",
       "      <th>Cabin</th>\n",
       "      <th>Embarked</th>\n",
       "      <th>Mean_Age</th>\n",
       "      <th>Family_size</th>\n",
       "      <th>Title</th>\n",
       "      <th>Traveling_Alone</th>\n",
       "      <th>under_age</th>\n",
       "    </tr>\n",
       "  </thead>\n",
       "  <tbody>\n",
       "    <tr>\n",
       "      <th>0</th>\n",
       "      <td>1</td>\n",
       "      <td>0</td>\n",
       "      <td>3</td>\n",
       "      <td>Braund, Mr. Owen Harris</td>\n",
       "      <td>1</td>\n",
       "      <td>22.0</td>\n",
       "      <td>1</td>\n",
       "      <td>0</td>\n",
       "      <td>A/5 21171</td>\n",
       "      <td>0.0</td>\n",
       "      <td>NaN</td>\n",
       "      <td>0</td>\n",
       "      <td>26.574766</td>\n",
       "      <td>0</td>\n",
       "      <td>2</td>\n",
       "      <td>0.0</td>\n",
       "      <td>0</td>\n",
       "    </tr>\n",
       "    <tr>\n",
       "      <th>1</th>\n",
       "      <td>2</td>\n",
       "      <td>1</td>\n",
       "      <td>1</td>\n",
       "      <td>Cumings, Mrs. John Bradley (Florence Briggs Th...</td>\n",
       "      <td>0</td>\n",
       "      <td>38.0</td>\n",
       "      <td>1</td>\n",
       "      <td>0</td>\n",
       "      <td>PC 17599</td>\n",
       "      <td>70.0</td>\n",
       "      <td>C85</td>\n",
       "      <td>1</td>\n",
       "      <td>36.052632</td>\n",
       "      <td>0</td>\n",
       "      <td>3</td>\n",
       "      <td>0.0</td>\n",
       "      <td>0</td>\n",
       "    </tr>\n",
       "    <tr>\n",
       "      <th>2</th>\n",
       "      <td>3</td>\n",
       "      <td>1</td>\n",
       "      <td>3</td>\n",
       "      <td>Heikkinen, Miss. Laina</td>\n",
       "      <td>0</td>\n",
       "      <td>26.0</td>\n",
       "      <td>0</td>\n",
       "      <td>0</td>\n",
       "      <td>STON/O2. 3101282</td>\n",
       "      <td>0.0</td>\n",
       "      <td>NaN</td>\n",
       "      <td>0</td>\n",
       "      <td>23.223684</td>\n",
       "      <td>0</td>\n",
       "      <td>1</td>\n",
       "      <td>1.0</td>\n",
       "      <td>0</td>\n",
       "    </tr>\n",
       "    <tr>\n",
       "      <th>3</th>\n",
       "      <td>4</td>\n",
       "      <td>1</td>\n",
       "      <td>1</td>\n",
       "      <td>Futrelle, Mrs. Jacques Heath (Lily May Peel)</td>\n",
       "      <td>0</td>\n",
       "      <td>35.0</td>\n",
       "      <td>1</td>\n",
       "      <td>0</td>\n",
       "      <td>113803</td>\n",
       "      <td>50.0</td>\n",
       "      <td>C123</td>\n",
       "      <td>0</td>\n",
       "      <td>32.704545</td>\n",
       "      <td>0</td>\n",
       "      <td>3</td>\n",
       "      <td>0.0</td>\n",
       "      <td>0</td>\n",
       "    </tr>\n",
       "    <tr>\n",
       "      <th>4</th>\n",
       "      <td>5</td>\n",
       "      <td>0</td>\n",
       "      <td>3</td>\n",
       "      <td>Allen, Mr. William Henry</td>\n",
       "      <td>1</td>\n",
       "      <td>35.0</td>\n",
       "      <td>0</td>\n",
       "      <td>0</td>\n",
       "      <td>373450</td>\n",
       "      <td>0.0</td>\n",
       "      <td>NaN</td>\n",
       "      <td>0</td>\n",
       "      <td>26.574766</td>\n",
       "      <td>0</td>\n",
       "      <td>2</td>\n",
       "      <td>1.0</td>\n",
       "      <td>0</td>\n",
       "    </tr>\n",
       "  </tbody>\n",
       "</table>\n",
       "</div>"
      ],
      "text/plain": [
       "   PassengerId  Survived  Pclass  \\\n",
       "0            1         0       3   \n",
       "1            2         1       1   \n",
       "2            3         1       3   \n",
       "3            4         1       1   \n",
       "4            5         0       3   \n",
       "\n",
       "                                                Name  Sex   Age  SibSp  Parch  \\\n",
       "0                            Braund, Mr. Owen Harris    1  22.0      1      0   \n",
       "1  Cumings, Mrs. John Bradley (Florence Briggs Th...    0  38.0      1      0   \n",
       "2                             Heikkinen, Miss. Laina    0  26.0      0      0   \n",
       "3       Futrelle, Mrs. Jacques Heath (Lily May Peel)    0  35.0      1      0   \n",
       "4                           Allen, Mr. William Henry    1  35.0      0      0   \n",
       "\n",
       "             Ticket  Fare Cabin  Embarked   Mean_Age  Family_size  Title  \\\n",
       "0         A/5 21171   0.0   NaN         0  26.574766            0      2   \n",
       "1          PC 17599  70.0   C85         1  36.052632            0      3   \n",
       "2  STON/O2. 3101282   0.0   NaN         0  23.223684            0      1   \n",
       "3            113803  50.0  C123         0  32.704545            0      3   \n",
       "4            373450   0.0   NaN         0  26.574766            0      2   \n",
       "\n",
       "   Traveling_Alone  under_age  \n",
       "0              0.0          0  \n",
       "1              0.0          0  \n",
       "2              1.0          0  \n",
       "3              0.0          0  \n",
       "4              1.0          0  "
      ]
     },
     "execution_count": 682,
     "metadata": {},
     "output_type": "execute_result"
    }
   ],
   "source": [
    "from sklearn.preprocessing import LabelEncoder\n",
    "\n",
    "lb = LabelEncoder()\n",
    "\n",
    "\n",
    "df['Family_size'] = df['SibSp'] + df['Parch'] + 1\n",
    "df['Fare'] = df['Fare'] - df['Fare'] % 10\n",
    "\n",
    "df['Sex'] = df['Sex'].map({'female': 0, 'male': 1})\n",
    "df['Embarked'].unique()\n",
    "df['Embarked'] = df['Embarked'].map({'S': 0, 'C': 1, 'Q': 3})\n",
    "\n",
    "df['Title'] = df['Name'].str.extract(r'(\\,[^\\.]+)')\n",
    "df['Title'] = df['Title'].str.replace(', ', '', regex=True)\n",
    "\n",
    "\n",
    "def title_mapper(x):\n",
    "    if x in ['Capt', 'Col', 'Major', 'Dr', 'Rev','Don', 'Sir', 'Lord', 'Jonkheer', 'Lady', 'the Countess']:\n",
    "        return 'Professional'\n",
    "#    elif x in ['Don', 'Sir', 'Lord', 'Jonkheer', 'Lady', 'the Countess']:\n",
    "#        return 'Noble'\n",
    "    elif x in ['Ms', 'Mme']:\n",
    "        return 'Mrs'\n",
    "    elif x in ['Mlle']:\n",
    "        return 'Miss'\n",
    "    else:\n",
    "        return x\n",
    "\n",
    "df['Title'] = df['Title'].map(title_mapper)\n",
    "\n",
    "print(df.groupby(df['Title'])['Title'].count())\n",
    "\n",
    "df['Title'] = lb.fit_transform(df['Title'])\n",
    "\n",
    "df['Traveling_Alone'] = df['Family_size'].map({1:1}).fillna(0)\n",
    "\n",
    "def family_size_mapper(x):\n",
    "    if x < 3:\n",
    "        return 0\n",
    "    elif x >= 3 and x <= 4:\n",
    "        return 1\n",
    "    elif x >= 5 and x <= 6:\n",
    "        return 2\n",
    "    elif x >= 7 and x <= 8:\n",
    "        return 3\n",
    "    else:\n",
    "        return 4\n",
    "    \n",
    "df['Family_size'] = df['Family_size'].map(family_size_mapper)\n",
    "df['under_age'] = np.where(df['Age']<= 18, 1, 0)\n",
    "\n",
    "#df['Age'] = df['Age'] - df['Age'] % 10\n",
    "\n",
    "df.head()\n"
   ]
  },
  {
   "cell_type": "code",
   "execution_count": 683,
   "metadata": {},
   "outputs": [
    {
     "data": {
      "text/html": [
       "<div>\n",
       "<style scoped>\n",
       "    .dataframe tbody tr th:only-of-type {\n",
       "        vertical-align: middle;\n",
       "    }\n",
       "\n",
       "    .dataframe tbody tr th {\n",
       "        vertical-align: top;\n",
       "    }\n",
       "\n",
       "    .dataframe thead th {\n",
       "        text-align: right;\n",
       "    }\n",
       "</style>\n",
       "<table border=\"1\" class=\"dataframe\">\n",
       "  <thead>\n",
       "    <tr style=\"text-align: right;\">\n",
       "      <th></th>\n",
       "      <th>Survived</th>\n",
       "      <th>Pclass</th>\n",
       "      <th>Sex</th>\n",
       "      <th>Age</th>\n",
       "      <th>Fare</th>\n",
       "      <th>Family_size</th>\n",
       "      <th>Title</th>\n",
       "      <th>under_age</th>\n",
       "    </tr>\n",
       "  </thead>\n",
       "  <tbody>\n",
       "    <tr>\n",
       "      <th>0</th>\n",
       "      <td>0</td>\n",
       "      <td>3</td>\n",
       "      <td>1</td>\n",
       "      <td>22.0</td>\n",
       "      <td>0.0</td>\n",
       "      <td>0</td>\n",
       "      <td>2</td>\n",
       "      <td>0</td>\n",
       "    </tr>\n",
       "    <tr>\n",
       "      <th>1</th>\n",
       "      <td>1</td>\n",
       "      <td>1</td>\n",
       "      <td>0</td>\n",
       "      <td>38.0</td>\n",
       "      <td>70.0</td>\n",
       "      <td>0</td>\n",
       "      <td>3</td>\n",
       "      <td>0</td>\n",
       "    </tr>\n",
       "    <tr>\n",
       "      <th>2</th>\n",
       "      <td>1</td>\n",
       "      <td>3</td>\n",
       "      <td>0</td>\n",
       "      <td>26.0</td>\n",
       "      <td>0.0</td>\n",
       "      <td>0</td>\n",
       "      <td>1</td>\n",
       "      <td>0</td>\n",
       "    </tr>\n",
       "    <tr>\n",
       "      <th>3</th>\n",
       "      <td>1</td>\n",
       "      <td>1</td>\n",
       "      <td>0</td>\n",
       "      <td>35.0</td>\n",
       "      <td>50.0</td>\n",
       "      <td>0</td>\n",
       "      <td>3</td>\n",
       "      <td>0</td>\n",
       "    </tr>\n",
       "    <tr>\n",
       "      <th>4</th>\n",
       "      <td>0</td>\n",
       "      <td>3</td>\n",
       "      <td>1</td>\n",
       "      <td>35.0</td>\n",
       "      <td>0.0</td>\n",
       "      <td>0</td>\n",
       "      <td>2</td>\n",
       "      <td>0</td>\n",
       "    </tr>\n",
       "  </tbody>\n",
       "</table>\n",
       "</div>"
      ],
      "text/plain": [
       "   Survived  Pclass  Sex   Age  Fare  Family_size  Title  under_age\n",
       "0         0       3    1  22.0   0.0            0      2          0\n",
       "1         1       1    0  38.0  70.0            0      3          0\n",
       "2         1       3    0  26.0   0.0            0      1          0\n",
       "3         1       1    0  35.0  50.0            0      3          0\n",
       "4         0       3    1  35.0   0.0            0      2          0"
      ]
     },
     "execution_count": 683,
     "metadata": {},
     "output_type": "execute_result"
    }
   ],
   "source": [
    "ddf = df.drop(columns=['PassengerId', 'Name','Mean_Age', 'Cabin', 'Ticket', 'Traveling_Alone', 'Embarked', 'Parch', 'SibSp'])\n",
    "\n",
    "ddf.head()"
   ]
  },
  {
   "cell_type": "code",
   "execution_count": 684,
   "metadata": {},
   "outputs": [
    {
     "name": "stdout",
     "output_type": "stream",
     "text": [
      "Accuracy: 0.8314606741573034\n"
     ]
    },
    {
     "data": {
      "text/plain": [
       "<sklearn.metrics._plot.confusion_matrix.ConfusionMatrixDisplay at 0x128c7addb50>"
      ]
     },
     "execution_count": 684,
     "metadata": {},
     "output_type": "execute_result"
    },
    {
     "data": {
      "image/png": "[encoded data removed]",
      "text/plain": [
       "<Figure size 640x480 with 2 Axes>"
      ]
     },
     "metadata": {},
     "output_type": "display_data"
    }
   ],
   "source": [
    "X = df[['Pclass', 'Sex', 'Fare', 'Age', 'Title', 'under_age']]\n",
    "y = df['Survived']\n",
    "\n",
    "from sklearn.model_selection import train_test_split\n",
    "\n",
    "X_train, X_test, y_train, y_test = train_test_split(X, y, test_size=0.20, random_state=16)\n",
    "\n",
    "from sklearn.ensemble import RandomForestClassifier\n",
    "\n",
    "from sklearn.model_selection import RandomizedSearchCV, train_test_split\n",
    "from scipy.stats import randint\n",
    "\n",
    "from sklearn.tree import export_graphviz\n",
    "from IPython.display import Image\n",
    "import graphviz\n",
    "from sklearn.metrics import accuracy_score, confusion_matrix, precision_score, recall_score, ConfusionMatrixDisplay\n",
    "\n",
    "rf = RandomForestClassifier()\n",
    "rf.fit(X_train, y_train)\n",
    "\n",
    "y_pred = rf.predict(X_test)\n",
    "\n",
    "accuracy = accuracy_score(y_test, y_pred)\n",
    "\n",
    "print('Accuracy:', accuracy)\n",
    "\n",
    "cm = confusion_matrix(y_test, y_pred)\n",
    "\n",
    "ConfusionMatrixDisplay(confusion_matrix=cm).plot()"
   ]
  },
  {
   "cell_type": "code",
   "execution_count": 685,
   "metadata": {},
   "outputs": [
    {
     "name": "stdout",
     "output_type": "stream",
     "text": [
      "accuracy: 0.8314606741573034\n",
      "precision: 0.8285714285714286\n",
      "recall: 0.7631578947368421\n",
      "              precision    recall  f1-score   support\n",
      "\n",
      "Not survived       0.83      0.88      0.86       102\n",
      "    Survived       0.83      0.76      0.79        76\n",
      "\n",
      "    accuracy                           0.83       178\n",
      "   macro avg       0.83      0.82      0.83       178\n",
      "weighted avg       0.83      0.83      0.83       178\n",
      "\n"
     ]
    }
   ],
   "source": [
    "accuracy = accuracy_score(y_test, y_pred)\n",
    "precision = precision_score(y_test, y_pred)\n",
    "recall = recall_score(y_test, y_pred)\n",
    "\n",
    "print('accuracy:', accuracy)\n",
    "print('precision:', precision)\n",
    "print('recall:', recall)\n",
    "\n",
    "from sklearn.metrics import classification_report\n",
    "\n",
    "target_names = ['Not survived', 'Survived']\n",
    "\n",
    "print(classification_report(y_test, y_pred, target_names=target_names))"
   ]
  },
  {
   "cell_type": "code",
   "execution_count": 686,
   "metadata": {},
   "outputs": [
    {
     "data": {
      "text/plain": [
       "<Axes: >"
      ]
     },
     "execution_count": 686,
     "metadata": {},
     "output_type": "execute_result"
    },
    {
     "data": {
      "image/png": "[encoded data removed]",
      "text/plain": [
       "<Figure size 640x480 with 1 Axes>"
      ]
     },
     "metadata": {},
     "output_type": "display_data"
    }
   ],
   "source": [
    "feature_importance = pd.Series(rf.feature_importances_, index=X_train.columns).sort_values(ascending=False)\n",
    "\n",
    "feature_importance.plot.bar()"
   ]
  },
  {
   "cell_type": "code",
   "execution_count": 687,
   "metadata": {},
   "outputs": [
    {
     "data": {
      "text/plain": [
       "<function matplotlib.pyplot.show(close=None, block=None)>"
      ]
     },
     "execution_count": 687,
     "metadata": {},
     "output_type": "execute_result"
    },
    {
     "data": {
      "image/png": "[encoded data removed]",
      "text/plain": [
       "<Figure size 800x500 with 2 Axes>"
      ]
     },
     "metadata": {},
     "output_type": "display_data"
    }
   ],
   "source": [
    "import seaborn as sns\n",
    "import matplotlib.pyplot as plt\n",
    "\n",
    "corr_matrix = ddf.corr()\n",
    "\n",
    "plt.figure(figsize=(8, 5))\n",
    "sns.heatmap(corr_matrix[['Survived']].sort_values(by='Survived', ascending=False), annot=True)\n",
    "\n",
    "plt.title('Feature correlation with Target')\n",
    "plt.show"
   ]
  },
  {
   "cell_type": "code",
   "execution_count": 688,
   "metadata": {},
   "outputs": [
    {
     "name": "stdout",
     "output_type": "stream",
     "text": [
      "Selected Features: Index(['Pclass', 'Sex', 'Fare', 'Age', 'Title', 'under_age'], dtype='object')\n",
      "Selected Features: [ True  True  True  True  True False]\n"
     ]
    }
   ],
   "source": [
    "from sklearn.datasets import make_classification\n",
    "from sklearn.feature_selection import RFE\n",
    "\n",
    "X, y = make_classification(n_samples=100, n_features=20, n_informative=10, random_state=42)\n",
    "\n",
    "model = RandomForestClassifier()\n",
    "\n",
    "rfe = RFE(estimator=model, n_features_to_select=5)\n",
    "\n",
    "rfe.fit(X_train,y_train)\n",
    "\n",
    "selected_features = rfe.support_\n",
    "\n",
    "print('Selected Features:', X_train.columns)\n",
    "print('Selected Features:', selected_features)"
   ]
  },
  {
   "cell_type": "code",
   "execution_count": null,
   "metadata": {},
   "outputs": [],
   "source": []
  }
 ],
 "metadata": {
  "kernelspec": {
   "display_name": "Python 3",
   "language": "python",
   "name": "python3"
  },
  "language_info": {
   "codemirror_mode": {
    "name": "ipython",
    "version": 3
   },
   "file_extension": ".py",
   "mimetype": "text/x-python",
   "name": "python",
   "nbconvert_exporter": "python",
   "pygments_lexer": "ipython3",
   "version": "3.12.7"
  }
 },
 "nbformat": 4,
 "nbformat_minor": 2
}
